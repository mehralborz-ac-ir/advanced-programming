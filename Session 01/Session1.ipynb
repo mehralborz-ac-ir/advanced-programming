{
  "nbformat": 4,
  "nbformat_minor": 0,
  "metadata": {
    "colab": {
      "provenance": []
    },
    "kernelspec": {
      "name": "python3",
      "display_name": "Python 3"
    },
    "language_info": {
      "name": "python"
    }
  },
  "cells": [
    {
      "cell_type": "markdown",
      "source": [
        "#first Session"
      ],
      "metadata": {
        "id": "KnW31BY-Yadm"
      }
    },
    {
      "cell_type": "markdown",
      "source": [
        "#print **cube sum of first n natural numbers**"
      ],
      "metadata": {
        "id": "D6-oCV9wYjBd"
      }
    },
    {
      "cell_type": "code",
      "source": [
        "n=5\n",
        "s=0\n",
        "# iterating loop up to given number n\n",
        "for i in range(1,n+1):\n",
        "    # adding cube sum using pow() function\n",
        "    s=s+pow(i,3)\n",
        "print(s)"
      ],
      "metadata": {
        "id": "uB0gJN9DWAvk",
        "colab": {
          "base_uri": "https://localhost:8080/"
        },
        "outputId": "81b8c869-4b1b-4a91-aa57-6081ced000d1"
      },
      "execution_count": 14,
      "outputs": [
        {
          "output_type": "stream",
          "name": "stdout",
          "text": [
            "225\n"
          ]
        }
      ]
    },
    {
      "cell_type": "markdown",
      "source": [
        "#Program to print ASCII Value of a character\n"
      ],
      "metadata": {
        "id": "XhEBNnbtb9k8"
      }
    },
    {
      "cell_type": "code",
      "source": [
        "print(\"Enter a String: \", end=\"\")\n",
        "text = input()\n",
        "textlength = len(text)\n",
        "for char in text:\n",
        "    ascii = ord(char)\n",
        "    print(char, \"\\t\", ascii)"
      ],
      "metadata": {
        "id": "NIeZGGwib8u9",
        "colab": {
          "base_uri": "https://localhost:8080/"
        },
        "outputId": "8b661d69-1f28-4241-fb56-4c2a613c5d94"
      },
      "execution_count": 1,
      "outputs": [
        {
          "output_type": "stream",
          "name": "stdout",
          "text": [
            "Enter a String: farzaneh rahmani\n",
            "f \t 102\n",
            "a \t 97\n",
            "r \t 114\n",
            "z \t 122\n",
            "a \t 97\n",
            "n \t 110\n",
            "e \t 101\n",
            "h \t 104\n",
            "  \t 32\n",
            "r \t 114\n",
            "a \t 97\n",
            "h \t 104\n",
            "m \t 109\n",
            "a \t 97\n",
            "n \t 110\n",
            "i \t 105\n"
          ]
        }
      ]
    },
    {
      "cell_type": "markdown",
      "source": [
        "#Sum of squares of first n natural numbers\n"
      ],
      "metadata": {
        "id": "tGEqEK6JcKgm"
      }
    },
    {
      "cell_type": "code",
      "source": [
        "def squaresum(n):\n",
        "  sm = 0\n",
        "  for i in range(1, n+1):\n",
        "    sm = sm + (i * i)\n",
        "\n",
        "  return sm\n",
        "\n",
        "n = 4\n",
        "print(squaresum(n))"
      ],
      "metadata": {
        "colab": {
          "base_uri": "https://localhost:8080/"
        },
        "id": "SHFTJMcm3lu2",
        "outputId": "5d644a05-d585-4d5e-a9b5-99bef9fa09a4"
      },
      "execution_count": 2,
      "outputs": [
        {
          "output_type": "stream",
          "name": "stdout",
          "text": [
            "30\n"
          ]
        }
      ]
    },
    {
      "cell_type": "markdown",
      "source": [
        "#Python Program to Check Prime Number"
      ],
      "metadata": {
        "id": "vZYXhUPpZ9Ed"
      }
    },
    {
      "cell_type": "code",
      "source": [
        "num = 1\n",
        "# If given number is greater than 1\n",
        "if num > 1:\n",
        "  for i in range(2, int(num/2)+1):\n",
        "      \n",
        "    if (num % i) == 0:\n",
        "      print(num, \"is not a prime number\")\n",
        "      break\n",
        "  else:\n",
        "    print(num, \"is a prime number\")\n",
        "else:\n",
        "  print(num, \"is not a prime number\")"
      ],
      "metadata": {
        "colab": {
          "base_uri": "https://localhost:8080/"
        },
        "id": "FaBrD_AUZ_NM",
        "outputId": "0a70612a-96a0-4ec0-c28a-62b2343943e0"
      },
      "execution_count": 8,
      "outputs": [
        {
          "output_type": "stream",
          "name": "stdout",
          "text": [
            "1 is not a prime number\n"
          ]
        }
      ]
    },
    {
      "cell_type": "markdown",
      "source": [
        "#Python program to print all Prime numbers in an Interval"
      ],
      "metadata": {
        "id": "8SHVv7DJaQZt"
      }
    },
    {
      "cell_type": "code",
      "source": [
        "def prime(x, y):\n",
        "    prime_list = []\n",
        "    for i in range(x, y):\n",
        "        if i == 0 or i == 1:\n",
        "            continue\n",
        "        else:\n",
        "            for j in range(2, int(i/2)+1):\n",
        "                if i % j == 0:\n",
        "                    break\n",
        "            else:\n",
        "                prime_list.append(i)\n",
        "    return prime_list\n",
        " \n",
        "# Driver program\n",
        "starting_range = 1\n",
        "ending_range = 20\n",
        "lst = prime(starting_range, ending_range)\n",
        "if len(lst) == 0:\n",
        "    print(\"There are no prime numbers in this range\")\n",
        "else:\n",
        "    print(\"The prime numbers in this range are: \", lst)"
      ],
      "metadata": {
        "id": "yf3d3OJ3aSr9",
        "colab": {
          "base_uri": "https://localhost:8080/"
        },
        "outputId": "fe4870bb-da6a-4569-f46f-4ee5e783cda9"
      },
      "execution_count": 11,
      "outputs": [
        {
          "output_type": "stream",
          "name": "stdout",
          "text": [
            "The prime numbers in this range are:  [2, 3, 5, 7, 11, 13, 17, 19]\n"
          ]
        }
      ]
    },
    {
      "cell_type": "markdown",
      "source": [
        "#Python Program for n-th Fibonacci number\n"
      ],
      "metadata": {
        "id": "JpONSCMMYyvU"
      }
    },
    {
      "cell_type": "code",
      "source": [
        "def Fibonacci(n):\n",
        "    if n<= 0:\n",
        "        print(\"Incorrect input\")\n",
        "    # First Fibonacci number is 0\n",
        "    elif n == 1:\n",
        "        return 0\n",
        "    # Second Fibonacci number is 1\n",
        "    elif n == 2:\n",
        "        return 1\n",
        "    else:\n",
        "        return Fibonacci(n-1)+Fibonacci(n-2)\n",
        " \n",
        "print(Fibonacci(10))"
      ],
      "metadata": {
        "colab": {
          "base_uri": "https://localhost:8080/"
        },
        "id": "UtnJSFcjWLEM",
        "outputId": "7e001290-1b29-407d-c2d3-c918e6c2729e"
      },
      "execution_count": null,
      "outputs": [
        {
          "output_type": "stream",
          "name": "stdout",
          "text": [
            "34\n"
          ]
        }
      ]
    },
    {
      "cell_type": "markdown",
      "source": [
        "#method 2"
      ],
      "metadata": {
        "id": "xkp5ci1RZviF"
      }
    },
    {
      "cell_type": "code",
      "source": [
        "# Function for nth fibonacci number - Dynamic Programming\n",
        "FibArray = [0, 1]\n",
        " \n",
        "def fibonacci(n):\n",
        "    if n<0:\n",
        "        print(\"Incorrect input\")\n",
        "    elif n<= len(FibArray):\n",
        "        return FibArray[n-1]\n",
        "    else:\n",
        "        temp_fib = fibonacci(n-1)+fibonacci(n-2)\n",
        "        FibArray.append(temp_fib)\n",
        "        return temp_fib\n",
        " \n",
        "# Driver Program\n",
        " \n",
        "print(fibonacci(9))"
      ],
      "metadata": {
        "id": "h97N4ZkZZzZF",
        "colab": {
          "base_uri": "https://localhost:8080/"
        },
        "outputId": "3fe2ce14-7db0-445c-dbfd-93bf38586590"
      },
      "execution_count": 12,
      "outputs": [
        {
          "output_type": "stream",
          "name": "stdout",
          "text": [
            "21\n"
          ]
        }
      ]
    },
    {
      "cell_type": "markdown",
      "source": [
        "method 3"
      ],
      "metadata": {
        "id": "Plq2FdHYakQ9"
      }
    },
    {
      "cell_type": "code",
      "source": [
        "# creating an array in the function to find the\n",
        "#nth number in fibonacci series. [0, 1, 1, ...]\n",
        "def fibonacci(n):\n",
        "    if n <= 0:\n",
        "        return \"Incorrect Output\"\n",
        "    data = [0, 1]\n",
        "    if n > 2:\n",
        "        for i in range(2, n):\n",
        "            data.append(data[i-1] + data[i-2])\n",
        "    return data[n-1]\n",
        " \n",
        "# Driver Program\n",
        "print(fibonacci(9))"
      ],
      "metadata": {
        "id": "PONZJg10Z3NN"
      },
      "execution_count": null,
      "outputs": []
    },
    {
      "cell_type": "code",
      "source": [],
      "metadata": {
        "id": "6FP7Nkq2bURv"
      },
      "execution_count": null,
      "outputs": []
    },
    {
      "cell_type": "code",
      "source": [],
      "metadata": {
        "id": "3NT5pYfubraM"
      },
      "execution_count": null,
      "outputs": []
    }
  ]
}